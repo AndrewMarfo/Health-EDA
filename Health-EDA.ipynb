{
 "cells": [
  {
   "cell_type": "markdown",
   "id": "27b9306e-6017-472e-873c-39c371d8d87a",
   "metadata": {},
   "source": [
    "### Importing Libraries"
   ]
  },
  {
   "cell_type": "code",
   "execution_count": 2,
   "id": "44459c76-3deb-4dbe-bdaa-51cbe08510ff",
   "metadata": {},
   "outputs": [],
   "source": [
    "import pandas as pd\n",
    "from sklearn.preprocessing import LabelEncoder\n",
    "import matplotlib.pyplot as plt"
   ]
  },
  {
   "cell_type": "markdown",
   "id": "2e81d9fb-944e-4bd8-bccf-1c6533997f30",
   "metadata": {},
   "source": [
    "### Loading the Dataset (Heart data)"
   ]
  },
  {
   "cell_type": "code",
   "execution_count": 4,
   "id": "3b699254-0914-44aa-a18f-45ba6b215c00",
   "metadata": {},
   "outputs": [],
   "source": [
    "heart_data_path = \"Data/heart_data.csv\"\n",
    "heart_data = pd.read_csv(heart_data_path)"
   ]
  },
  {
   "cell_type": "markdown",
   "id": "a5b261da-170b-44b4-a1ba-58e4bcffbdc6",
   "metadata": {},
   "source": [
    "### Inspecting the Dataset"
   ]
  },
  {
   "cell_type": "code",
   "execution_count": 6,
   "id": "951dd17b-2afa-4724-be85-7d5508cb30ec",
   "metadata": {},
   "outputs": [
    {
     "name": "stdout",
     "output_type": "stream",
     "text": [
      "Basic Info \n",
      "\n",
      "<class 'pandas.core.frame.DataFrame'>\n",
      "RangeIndex: 303 entries, 0 to 302\n",
      "Data columns (total 14 columns):\n",
      " #   Column         Non-Null Count  Dtype  \n",
      "---  ------         --------------  -----  \n",
      " 0   age            303 non-null    float64\n",
      " 1   sex            303 non-null    float64\n",
      " 2   cp             303 non-null    float64\n",
      " 3   trestbps       303 non-null    float64\n",
      " 4   chol           303 non-null    float64\n",
      " 5   fbs            303 non-null    float64\n",
      " 6   restecg        303 non-null    float64\n",
      " 7   thalach        303 non-null    float64\n",
      " 8   exang          303 non-null    float64\n",
      " 9   oldpeak        303 non-null    float64\n",
      " 10  slope          303 non-null    float64\n",
      " 11  ca             303 non-null    object \n",
      " 12  thal           303 non-null    object \n",
      " 13  heart_disease  303 non-null    int64  \n",
      "dtypes: float64(11), int64(1), object(2)\n",
      "memory usage: 33.3+ KB\n",
      "\n",
      " The first 10 rows of the data \n",
      "\n",
      "    age  sex   cp  trestbps   chol  fbs  restecg  thalach  exang  oldpeak  \\\n",
      "0  63.0  1.0  1.0     145.0  233.0  1.0      2.0    150.0    0.0      2.3   \n",
      "1  67.0  1.0  4.0     160.0  286.0  0.0      2.0    108.0    1.0      1.5   \n",
      "2  67.0  1.0  4.0     120.0  229.0  0.0      2.0    129.0    1.0      2.6   \n",
      "3  37.0  1.0  3.0     130.0  250.0  0.0      0.0    187.0    0.0      3.5   \n",
      "4  41.0  0.0  2.0     130.0  204.0  0.0      2.0    172.0    0.0      1.4   \n",
      "5  56.0  1.0  2.0     120.0  236.0  0.0      0.0    178.0    0.0      0.8   \n",
      "6  62.0  0.0  4.0     140.0  268.0  0.0      2.0    160.0    0.0      3.6   \n",
      "7  57.0  0.0  4.0     120.0  354.0  0.0      0.0    163.0    1.0      0.6   \n",
      "8  63.0  1.0  4.0     130.0  254.0  0.0      2.0    147.0    0.0      1.4   \n",
      "9  53.0  1.0  4.0     140.0  203.0  1.0      2.0    155.0    1.0      3.1   \n",
      "\n",
      "   slope   ca thal  heart_disease  \n",
      "0    3.0  0.0  6.0              0  \n",
      "1    2.0  3.0  3.0              2  \n",
      "2    2.0  2.0  7.0              1  \n",
      "3    3.0  0.0  3.0              0  \n",
      "4    1.0  0.0  3.0              0  \n",
      "5    1.0  0.0  3.0              0  \n",
      "6    3.0  2.0  3.0              3  \n",
      "7    1.0  0.0  3.0              0  \n",
      "8    2.0  1.0  7.0              2  \n",
      "9    3.0  0.0  7.0              1   \n",
      "\n",
      "Numerical Description of the data \n",
      "\n",
      "              age         sex          cp    trestbps        chol         fbs  \\\n",
      "count  303.000000  303.000000  303.000000  303.000000  303.000000  303.000000   \n",
      "mean    54.438944    0.679868    3.158416  131.689769  246.693069    0.148515   \n",
      "std      9.038662    0.467299    0.960126   17.599748   51.776918    0.356198   \n",
      "min     29.000000    0.000000    1.000000   94.000000  126.000000    0.000000   \n",
      "25%     48.000000    0.000000    3.000000  120.000000  211.000000    0.000000   \n",
      "50%     56.000000    1.000000    3.000000  130.000000  241.000000    0.000000   \n",
      "75%     61.000000    1.000000    4.000000  140.000000  275.000000    0.000000   \n",
      "max     77.000000    1.000000    4.000000  200.000000  564.000000    1.000000   \n",
      "\n",
      "          restecg     thalach       exang     oldpeak       slope  \\\n",
      "count  303.000000  303.000000  303.000000  303.000000  303.000000   \n",
      "mean     0.990099  149.607261    0.326733    1.039604    1.600660   \n",
      "std      0.994971   22.875003    0.469794    1.161075    0.616226   \n",
      "min      0.000000   71.000000    0.000000    0.000000    1.000000   \n",
      "25%      0.000000  133.500000    0.000000    0.000000    1.000000   \n",
      "50%      1.000000  153.000000    0.000000    0.800000    2.000000   \n",
      "75%      2.000000  166.000000    1.000000    1.600000    2.000000   \n",
      "max      2.000000  202.000000    1.000000    6.200000    3.000000   \n",
      "\n",
      "       heart_disease  \n",
      "count     303.000000  \n",
      "mean        0.937294  \n",
      "std         1.228536  \n",
      "min         0.000000  \n",
      "25%         0.000000  \n",
      "50%         0.000000  \n",
      "75%         2.000000  \n",
      "max         4.000000   \n",
      "\n",
      "Categorical Description of the data \n",
      "\n"
     ]
    },
    {
     "data": {
      "text/html": [
       "<div>\n",
       "<style scoped>\n",
       "    .dataframe tbody tr th:only-of-type {\n",
       "        vertical-align: middle;\n",
       "    }\n",
       "\n",
       "    .dataframe tbody tr th {\n",
       "        vertical-align: top;\n",
       "    }\n",
       "\n",
       "    .dataframe thead th {\n",
       "        text-align: right;\n",
       "    }\n",
       "</style>\n",
       "<table border=\"1\" class=\"dataframe\">\n",
       "  <thead>\n",
       "    <tr style=\"text-align: right;\">\n",
       "      <th></th>\n",
       "      <th>ca</th>\n",
       "      <th>thal</th>\n",
       "    </tr>\n",
       "  </thead>\n",
       "  <tbody>\n",
       "    <tr>\n",
       "      <th>count</th>\n",
       "      <td>303</td>\n",
       "      <td>303</td>\n",
       "    </tr>\n",
       "    <tr>\n",
       "      <th>unique</th>\n",
       "      <td>5</td>\n",
       "      <td>4</td>\n",
       "    </tr>\n",
       "    <tr>\n",
       "      <th>top</th>\n",
       "      <td>0.0</td>\n",
       "      <td>3.0</td>\n",
       "    </tr>\n",
       "    <tr>\n",
       "      <th>freq</th>\n",
       "      <td>176</td>\n",
       "      <td>166</td>\n",
       "    </tr>\n",
       "  </tbody>\n",
       "</table>\n",
       "</div>"
      ],
      "text/plain": [
       "         ca thal\n",
       "count   303  303\n",
       "unique    5    4\n",
       "top     0.0  3.0\n",
       "freq    176  166"
      ]
     },
     "execution_count": 6,
     "metadata": {},
     "output_type": "execute_result"
    }
   ],
   "source": [
    "# Basic Information about the dataset\n",
    "print(\"Basic Info \\n\")\n",
    "heart_data.info()\n",
    "\n",
    "# The First 10 rows of the data\n",
    "print(\"\\n The first 10 rows of the data \\n\")\n",
    "print(f\"{heart_data.head(10)} \\n\")\n",
    "\n",
    "# Descriptive statistics about the data (Numerical)\n",
    "print(\"Numerical Description of the data \\n\")\n",
    "print(f\"{heart_data.describe()} \\n\")\n",
    "\n",
    "# Descriptive statistics about the data (Categorical)\n",
    "print(\"Categorical Description of the data \\n\")\n",
    "heart_data.describe(include=\"O\")"
   ]
  },
  {
   "cell_type": "code",
   "execution_count": null,
   "id": "8c34d0ac-b2e4-4d5e-8e2d-b59819be7966",
   "metadata": {},
   "outputs": [],
   "source": []
  }
 ],
 "metadata": {
  "kernelspec": {
   "display_name": "Python 3 (ipykernel)",
   "language": "python",
   "name": "python3"
  },
  "language_info": {
   "codemirror_mode": {
    "name": "ipython",
    "version": 3
   },
   "file_extension": ".py",
   "mimetype": "text/x-python",
   "name": "python",
   "nbconvert_exporter": "python",
   "pygments_lexer": "ipython3",
   "version": "3.12.7"
  }
 },
 "nbformat": 4,
 "nbformat_minor": 5
}
